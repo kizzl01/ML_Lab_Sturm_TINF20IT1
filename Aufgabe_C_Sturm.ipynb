{
 "cells": [
  {
   "cell_type": "markdown",
   "metadata": {},
   "source": [
    "# Aufgabe-C-Sturm"
   ]
  },
  {
   "cell_type": "markdown",
   "metadata": {},
   "source": [
    "## Allgemeines\n",
    "\n",
    "Eine allgemeine Beschreibung der Laboraufgaben inklusive des Vorgehens, den Bewertungsrichtlinien und der Abgabe finden Sie  <a href=\"ML-allgemein.ipynb\">hier</a>"
   ]
  },
  {
   "attachments": {},
   "cell_type": "markdown",
   "metadata": {},
   "source": [
    "## Datenquelle\n",
    "\n",
    "\n",
    "* Laden Sie ihre Daten von http://141.72.190.207/ml_lab/C_sturm herunter\n",
    "    * Die Daten sind geschützt. \n",
    "        * Sie müssen evtl. in einem Netzwerk der DHBW (z.B. WLAN, VPN, ...) angemeldet sein. \n",
    "        * Sie können sich auf der Webseite mit dem Benutzernamen dhbw und dem Zugangsnamen \"ml_LaB_4$\" anmelden. \n",
    "* Die Daten sind in einem anwendungsspezifischen Format gespeichert.\n",
    "    * Sie finden evtl. Informationen über die Daten in einer \"README\" Datei. \n",
    "    * Finden Sie keine solche Datei sind die Daten selbst erklärend. \n",
    "    \n",
    "    \n",
    "\n"
   ]
  },
  {
   "cell_type": "markdown",
   "metadata": {},
   "source": [
    "## Aufgabe"
   ]
  },
  {
   "cell_type": "markdown",
   "metadata": {},
   "source": [
    "Sagen Sie die Windgeschwindigkeit eines Sturms (in Knoten) aufgrund von Satellitenfotos vorher.\n",
    "Der Datensatz besteht aus Fotos von 494 verschiedenen Stürmen im Atlantik und Pazifik mit ihren zugehörigen Windgeschwindigkeiten.\n",
    "Jedes Bild hat `366 x 366` Pixel, und es sind 70.257 Trainingsdaten und 45.377 Testdaten vorhanden.\n",
    "Die Bilder wurden zu mehreren Zeitpunkten während der Lebensdauer eines Sturms aufgenommen.\n",
    "\n",
    "Für jeden Sturm im Trainings und Testdatensatz erhalten Sie eine Zeitreihe von Bildern mit der jeweiligen assoziierten relativen Zeit seit Beginn des Sturms.\n",
    "Ihr Modell sollte neben den reinen Bilddaten also auch den zeitlichen Verlauf des Sturms betrachten, um die Vorhersage für künftige Vorhersagezeitpunkte zu erstellen\n",
    "\n",
    "Die Bilder sind nach folgendem Schema benannt: `{image_id}.jpg`.\n",
    "Diese IDs bestehen aus einer Sturm_ID und einer Bildnummer entsprechend der zeitlichen Bildreihenfolge.\n",
    "\n",
    "Ihr Ziel ist es, für die Testdaten die korrekte Windgeschwindigkeiten vorherzusagen."
   ]
  },
  {
   "cell_type": "markdown",
   "metadata": {},
   "source": [
    "# Lösung\n",
    "\n",
    "* Beginnen Sie hier mit Ihrer Dokumentation und Implementierung! "
   ]
  },
  {
   "attachments": {},
   "cell_type": "markdown",
   "metadata": {},
   "source": [
    "Geplantes Vorgehen: \n",
    "\n",
    "- Daten vorbereitung\n",
    "- CNN-Modell trainieren (für räumliche Merkmale der Bilder)\n",
    "- LSTM-Modell trainieren (für zeitlichen Verlauf der Bilder)\n",
    "- Kombinierung der Modelle (Fully Connected-Layer um CNN in LSTM einzuspeisen, Ausgabe von LSTM ist finale Vorhersage)\n",
    "- Kombinierte Modell auf Trainingsdaten trainieren "
   ]
  },
  {
   "cell_type": "code",
   "execution_count": 1,
   "metadata": {},
   "outputs": [],
   "source": [
    "import json\n",
    "import numpy as np\n",
    "from tensorflow.keras.preprocessing.image import load_img, img_to_array\n",
    "\n",
    "def load_data(image_path, label_path):\n",
    "    # Lade das Bild und konvertiere es in ein Numpy-Array\n",
    "    img = load_img(image_path, target_size=(366, 366))\n",
    "    img = img_to_array(img)\n",
    "\n",
    "    # Lade die Labels aus der JSON-Datei\n",
    "    with open(label_path) as f:\n",
    "        labels = json.load(f)\n",
    "\n",
    "    # Extrahiere die Windgeschwindigkeit aus den Labels\n",
    "    wind_speed = labels[\"wind_speed\"]\n",
    "\n",
    "    return img, wind_speed"
   ]
  },
  {
   "cell_type": "code",
   "execution_count": 4,
   "metadata": {},
   "outputs": [
    {
     "ename": "UnidentifiedImageError",
     "evalue": "cannot identify image file <_io.BytesIO object at 0x000001C948433B00>",
     "output_type": "error",
     "traceback": [
      "\u001b[1;31m---------------------------------------------------------------------------\u001b[0m",
      "\u001b[1;31mUnidentifiedImageError\u001b[0m                    Traceback (most recent call last)",
      "Cell \u001b[1;32mIn[4], line 17\u001b[0m\n\u001b[0;32m     15\u001b[0m img_path \u001b[39m=\u001b[39m os\u001b[39m.\u001b[39mpath\u001b[39m.\u001b[39mjoin(train_data_dir, storm_folder, img_file)\n\u001b[0;32m     16\u001b[0m label_path \u001b[39m=\u001b[39m os\u001b[39m.\u001b[39mpath\u001b[39m.\u001b[39mjoin(train_label_dir, storm_folder, \u001b[39m\"\u001b[39m\u001b[39mlabels.json\u001b[39m\u001b[39m\"\u001b[39m)\n\u001b[1;32m---> 17\u001b[0m img, wind_speed \u001b[39m=\u001b[39m load_data(img_path, label_path)\n\u001b[0;32m     18\u001b[0m train_images[i] \u001b[39m=\u001b[39m img\n\u001b[0;32m     19\u001b[0m train_labels[i] \u001b[39m=\u001b[39m wind_speed\n",
      "Cell \u001b[1;32mIn[1], line 7\u001b[0m, in \u001b[0;36mload_data\u001b[1;34m(image_path, label_path)\u001b[0m\n\u001b[0;32m      5\u001b[0m \u001b[39mdef\u001b[39;00m \u001b[39mload_data\u001b[39m(image_path, label_path):\n\u001b[0;32m      6\u001b[0m     \u001b[39m# Lade das Bild und konvertiere es in ein Numpy-Array\u001b[39;00m\n\u001b[1;32m----> 7\u001b[0m     img \u001b[39m=\u001b[39m load_img(image_path, target_size\u001b[39m=\u001b[39;49m(\u001b[39m366\u001b[39;49m, \u001b[39m366\u001b[39;49m))\n\u001b[0;32m      8\u001b[0m     img \u001b[39m=\u001b[39m img_to_array(img)\n\u001b[0;32m     10\u001b[0m     \u001b[39m# Lade die Labels aus der JSON-Datei\u001b[39;00m\n",
      "File \u001b[1;32mc:\\Users\\Edin\\anaconda3\\envs\\yolov7gpu\\lib\\site-packages\\keras\\utils\\image_utils.py:423\u001b[0m, in \u001b[0;36mload_img\u001b[1;34m(path, grayscale, color_mode, target_size, interpolation, keep_aspect_ratio)\u001b[0m\n\u001b[0;32m    421\u001b[0m         path \u001b[39m=\u001b[39m \u001b[39mstr\u001b[39m(path\u001b[39m.\u001b[39mresolve())\n\u001b[0;32m    422\u001b[0m     \u001b[39mwith\u001b[39;00m \u001b[39mopen\u001b[39m(path, \u001b[39m\"\u001b[39m\u001b[39mrb\u001b[39m\u001b[39m\"\u001b[39m) \u001b[39mas\u001b[39;00m f:\n\u001b[1;32m--> 423\u001b[0m         img \u001b[39m=\u001b[39m pil_image\u001b[39m.\u001b[39;49mopen(io\u001b[39m.\u001b[39;49mBytesIO(f\u001b[39m.\u001b[39;49mread()))\n\u001b[0;32m    424\u001b[0m \u001b[39melse\u001b[39;00m:\n\u001b[0;32m    425\u001b[0m     \u001b[39mraise\u001b[39;00m \u001b[39mTypeError\u001b[39;00m(\n\u001b[0;32m    426\u001b[0m         \u001b[39mf\u001b[39m\u001b[39m\"\u001b[39m\u001b[39mpath should be path-like or io.BytesIO, not \u001b[39m\u001b[39m{\u001b[39;00m\u001b[39mtype\u001b[39m(path)\u001b[39m}\u001b[39;00m\u001b[39m\"\u001b[39m\n\u001b[0;32m    427\u001b[0m     )\n",
      "File \u001b[1;32mc:\\Users\\Edin\\anaconda3\\envs\\yolov7gpu\\lib\\site-packages\\PIL\\Image.py:3186\u001b[0m, in \u001b[0;36mopen\u001b[1;34m(fp, mode, formats)\u001b[0m\n\u001b[0;32m   3184\u001b[0m \u001b[39mfor\u001b[39;00m message \u001b[39min\u001b[39;00m accept_warnings:\n\u001b[0;32m   3185\u001b[0m     warnings\u001b[39m.\u001b[39mwarn(message)\n\u001b[1;32m-> 3186\u001b[0m \u001b[39mraise\u001b[39;00m UnidentifiedImageError(\n\u001b[0;32m   3187\u001b[0m     \u001b[39m\"\u001b[39m\u001b[39mcannot identify image file \u001b[39m\u001b[39m%r\u001b[39;00m\u001b[39m\"\u001b[39m \u001b[39m%\u001b[39m (filename \u001b[39mif\u001b[39;00m filename \u001b[39melse\u001b[39;00m fp)\n\u001b[0;32m   3188\u001b[0m )\n",
      "\u001b[1;31mUnidentifiedImageError\u001b[0m: cannot identify image file <_io.BytesIO object at 0x000001C948433B00>"
     ]
    }
   ],
   "source": [
    "import os\n",
    "\n",
    "# Erstelle leere Arrays, um die Daten zu speichern\n",
    "train_images = []\n",
    "train_labels = []\n",
    "test_images = []\n",
    "test_labels = []\n",
    "\n",
    "# Durchlaufe die Trainingsdaten\n",
    "train_data_dir = \"storm_train_data\"\n",
    "train_label_dir = \"storm_train_labels\"\n",
    "i = 0\n",
    "for storm_folder in os.listdir(train_data_dir):\n",
    "    for img_file in os.listdir(os.path.join(train_data_dir, storm_folder)):\n",
    "        img_path = os.path.join(train_data_dir, storm_folder, img_file)\n",
    "        label_path = os.path.join(train_label_dir, storm_folder, \"labels.json\")\n",
    "        img, wind_speed = load_data(img_path, label_path)\n",
    "        train_images[i] = img\n",
    "        train_labels[i] = wind_speed\n",
    "        i += 1\n",
    "\n",
    "# Durchlaufe die Testdaten\n",
    "test_data_dir = \"storm_test_data\"\n",
    "test_label_dir = \"storm_test_labels\"\n",
    "i = 0\n",
    "for storm_folder in os.listdir(test_data_dir):\n",
    "    for img_file in os.listdir(os.path.join(test_data_dir, storm_folder)):\n",
    "        img_path = os.path.join(test_data_dir, storm_folder, img_file)\n",
    "        label_path = os.path.join(test_label_dir, storm_folder, \"labels.json\")\n",
    "        img, wind_speed = load_data(img_path, label_path)\n",
    "        test_images[i] = img\n",
    "        test_labels[i] = wind_speed\n",
    "        i += 1"
   ]
  }
 ],
 "metadata": {
  "kernelspec": {
   "display_name": "Python 3",
   "language": "python",
   "name": "python3"
  },
  "language_info": {
   "codemirror_mode": {
    "name": "ipython",
    "version": 3
   },
   "file_extension": ".py",
   "mimetype": "text/x-python",
   "name": "python",
   "nbconvert_exporter": "python",
   "pygments_lexer": "ipython3",
   "version": "3.10.9"
  }
 },
 "nbformat": 4,
 "nbformat_minor": 4
}
